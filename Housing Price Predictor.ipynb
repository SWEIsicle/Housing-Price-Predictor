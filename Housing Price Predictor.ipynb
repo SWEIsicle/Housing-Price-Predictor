{
 "cells": [
  {
   "cell_type": "markdown",
   "id": "c10e5809",
   "metadata": {},
   "source": [
    "## 1. Importing libraries and housing data (CSV)"
   ]
  },
  {
   "cell_type": "code",
   "execution_count": 13,
   "id": "1203c912",
   "metadata": {},
   "outputs": [],
   "source": [
    "import pandas as pd\n",
    "import numpy as np\n",
    "import matplotlib.pyplot as plt\n",
    "%matplotlib inline\n",
    "\n",
    "# Import housing price csv\n",
    "housing_data = pd.read_csv(\"Housing.csv\")"
   ]
  },
  {
   "cell_type": "code",
   "execution_count": 4,
   "id": "b2939f18",
   "metadata": {},
   "outputs": [
    {
     "data": {
      "text/html": [
       "<div>\n",
       "<style scoped>\n",
       "    .dataframe tbody tr th:only-of-type {\n",
       "        vertical-align: middle;\n",
       "    }\n",
       "\n",
       "    .dataframe tbody tr th {\n",
       "        vertical-align: top;\n",
       "    }\n",
       "\n",
       "    .dataframe thead th {\n",
       "        text-align: right;\n",
       "    }\n",
       "</style>\n",
       "<table border=\"1\" class=\"dataframe\">\n",
       "  <thead>\n",
       "    <tr style=\"text-align: right;\">\n",
       "      <th></th>\n",
       "      <th>price</th>\n",
       "      <th>area</th>\n",
       "      <th>bedrooms</th>\n",
       "      <th>bathrooms</th>\n",
       "      <th>stories</th>\n",
       "      <th>mainroad</th>\n",
       "      <th>guestroom</th>\n",
       "      <th>basement</th>\n",
       "      <th>hotwaterheating</th>\n",
       "      <th>airconditioning</th>\n",
       "      <th>parking</th>\n",
       "      <th>prefarea</th>\n",
       "      <th>furnishingstatus</th>\n",
       "    </tr>\n",
       "  </thead>\n",
       "  <tbody>\n",
       "    <tr>\n",
       "      <th>0</th>\n",
       "      <td>13300000</td>\n",
       "      <td>7420</td>\n",
       "      <td>4</td>\n",
       "      <td>2</td>\n",
       "      <td>3</td>\n",
       "      <td>yes</td>\n",
       "      <td>no</td>\n",
       "      <td>no</td>\n",
       "      <td>no</td>\n",
       "      <td>yes</td>\n",
       "      <td>2</td>\n",
       "      <td>yes</td>\n",
       "      <td>furnished</td>\n",
       "    </tr>\n",
       "    <tr>\n",
       "      <th>1</th>\n",
       "      <td>12250000</td>\n",
       "      <td>8960</td>\n",
       "      <td>4</td>\n",
       "      <td>4</td>\n",
       "      <td>4</td>\n",
       "      <td>yes</td>\n",
       "      <td>no</td>\n",
       "      <td>no</td>\n",
       "      <td>no</td>\n",
       "      <td>yes</td>\n",
       "      <td>3</td>\n",
       "      <td>no</td>\n",
       "      <td>furnished</td>\n",
       "    </tr>\n",
       "    <tr>\n",
       "      <th>2</th>\n",
       "      <td>12250000</td>\n",
       "      <td>9960</td>\n",
       "      <td>3</td>\n",
       "      <td>2</td>\n",
       "      <td>2</td>\n",
       "      <td>yes</td>\n",
       "      <td>no</td>\n",
       "      <td>yes</td>\n",
       "      <td>no</td>\n",
       "      <td>no</td>\n",
       "      <td>2</td>\n",
       "      <td>yes</td>\n",
       "      <td>semi-furnished</td>\n",
       "    </tr>\n",
       "    <tr>\n",
       "      <th>3</th>\n",
       "      <td>12215000</td>\n",
       "      <td>7500</td>\n",
       "      <td>4</td>\n",
       "      <td>2</td>\n",
       "      <td>2</td>\n",
       "      <td>yes</td>\n",
       "      <td>no</td>\n",
       "      <td>yes</td>\n",
       "      <td>no</td>\n",
       "      <td>yes</td>\n",
       "      <td>3</td>\n",
       "      <td>yes</td>\n",
       "      <td>furnished</td>\n",
       "    </tr>\n",
       "    <tr>\n",
       "      <th>4</th>\n",
       "      <td>11410000</td>\n",
       "      <td>7420</td>\n",
       "      <td>4</td>\n",
       "      <td>1</td>\n",
       "      <td>2</td>\n",
       "      <td>yes</td>\n",
       "      <td>yes</td>\n",
       "      <td>yes</td>\n",
       "      <td>no</td>\n",
       "      <td>yes</td>\n",
       "      <td>2</td>\n",
       "      <td>no</td>\n",
       "      <td>furnished</td>\n",
       "    </tr>\n",
       "    <tr>\n",
       "      <th>...</th>\n",
       "      <td>...</td>\n",
       "      <td>...</td>\n",
       "      <td>...</td>\n",
       "      <td>...</td>\n",
       "      <td>...</td>\n",
       "      <td>...</td>\n",
       "      <td>...</td>\n",
       "      <td>...</td>\n",
       "      <td>...</td>\n",
       "      <td>...</td>\n",
       "      <td>...</td>\n",
       "      <td>...</td>\n",
       "      <td>...</td>\n",
       "    </tr>\n",
       "    <tr>\n",
       "      <th>540</th>\n",
       "      <td>1820000</td>\n",
       "      <td>3000</td>\n",
       "      <td>2</td>\n",
       "      <td>1</td>\n",
       "      <td>1</td>\n",
       "      <td>yes</td>\n",
       "      <td>no</td>\n",
       "      <td>yes</td>\n",
       "      <td>no</td>\n",
       "      <td>no</td>\n",
       "      <td>2</td>\n",
       "      <td>no</td>\n",
       "      <td>unfurnished</td>\n",
       "    </tr>\n",
       "    <tr>\n",
       "      <th>541</th>\n",
       "      <td>1767150</td>\n",
       "      <td>2400</td>\n",
       "      <td>3</td>\n",
       "      <td>1</td>\n",
       "      <td>1</td>\n",
       "      <td>no</td>\n",
       "      <td>no</td>\n",
       "      <td>no</td>\n",
       "      <td>no</td>\n",
       "      <td>no</td>\n",
       "      <td>0</td>\n",
       "      <td>no</td>\n",
       "      <td>semi-furnished</td>\n",
       "    </tr>\n",
       "    <tr>\n",
       "      <th>542</th>\n",
       "      <td>1750000</td>\n",
       "      <td>3620</td>\n",
       "      <td>2</td>\n",
       "      <td>1</td>\n",
       "      <td>1</td>\n",
       "      <td>yes</td>\n",
       "      <td>no</td>\n",
       "      <td>no</td>\n",
       "      <td>no</td>\n",
       "      <td>no</td>\n",
       "      <td>0</td>\n",
       "      <td>no</td>\n",
       "      <td>unfurnished</td>\n",
       "    </tr>\n",
       "    <tr>\n",
       "      <th>543</th>\n",
       "      <td>1750000</td>\n",
       "      <td>2910</td>\n",
       "      <td>3</td>\n",
       "      <td>1</td>\n",
       "      <td>1</td>\n",
       "      <td>no</td>\n",
       "      <td>no</td>\n",
       "      <td>no</td>\n",
       "      <td>no</td>\n",
       "      <td>no</td>\n",
       "      <td>0</td>\n",
       "      <td>no</td>\n",
       "      <td>furnished</td>\n",
       "    </tr>\n",
       "    <tr>\n",
       "      <th>544</th>\n",
       "      <td>1750000</td>\n",
       "      <td>3850</td>\n",
       "      <td>3</td>\n",
       "      <td>1</td>\n",
       "      <td>2</td>\n",
       "      <td>yes</td>\n",
       "      <td>no</td>\n",
       "      <td>no</td>\n",
       "      <td>no</td>\n",
       "      <td>no</td>\n",
       "      <td>0</td>\n",
       "      <td>no</td>\n",
       "      <td>unfurnished</td>\n",
       "    </tr>\n",
       "  </tbody>\n",
       "</table>\n",
       "<p>545 rows × 13 columns</p>\n",
       "</div>"
      ],
      "text/plain": [
       "        price  area  bedrooms  bathrooms  stories mainroad guestroom basement  \\\n",
       "0    13300000  7420         4          2        3      yes        no       no   \n",
       "1    12250000  8960         4          4        4      yes        no       no   \n",
       "2    12250000  9960         3          2        2      yes        no      yes   \n",
       "3    12215000  7500         4          2        2      yes        no      yes   \n",
       "4    11410000  7420         4          1        2      yes       yes      yes   \n",
       "..        ...   ...       ...        ...      ...      ...       ...      ...   \n",
       "540   1820000  3000         2          1        1      yes        no      yes   \n",
       "541   1767150  2400         3          1        1       no        no       no   \n",
       "542   1750000  3620         2          1        1      yes        no       no   \n",
       "543   1750000  2910         3          1        1       no        no       no   \n",
       "544   1750000  3850         3          1        2      yes        no       no   \n",
       "\n",
       "    hotwaterheating airconditioning  parking prefarea furnishingstatus  \n",
       "0                no             yes        2      yes        furnished  \n",
       "1                no             yes        3       no        furnished  \n",
       "2                no              no        2      yes   semi-furnished  \n",
       "3                no             yes        3      yes        furnished  \n",
       "4                no             yes        2       no        furnished  \n",
       "..              ...             ...      ...      ...              ...  \n",
       "540              no              no        2       no      unfurnished  \n",
       "541              no              no        0       no   semi-furnished  \n",
       "542              no              no        0       no      unfurnished  \n",
       "543              no              no        0       no        furnished  \n",
       "544              no              no        0       no      unfurnished  \n",
       "\n",
       "[545 rows x 13 columns]"
      ]
     },
     "execution_count": 4,
     "metadata": {},
     "output_type": "execute_result"
    }
   ],
   "source": [
    "housing_data"
   ]
  },
  {
   "cell_type": "markdown",
   "id": "7620713b",
   "metadata": {},
   "source": [
    "## 2. Make sure data is numerical and split into training and test data"
   ]
  },
  {
   "cell_type": "code",
   "execution_count": 8,
   "id": "91eb3f0d",
   "metadata": {},
   "outputs": [],
   "source": [
    "# Split into X/y\n",
    "X = housing_data.drop([\"price\", \"mainroad\", \"guestroom\", \"basement\", \"hotwaterheating\",\n",
    "                       \"airconditioning\", \"prefarea\", \"furnishingstatus\"], axis=1)\n",
    "y= housing_data[\"price\"]\n",
    "\n",
    "from sklearn.model_selection import train_test_split\n",
    "\n",
    "# Split into training and test\n",
    "X_train, X_test, y_train, y_test = train_test_split(X,\n",
    "                                                   y,\n",
    "                                                   test_size=0.2)"
   ]
  },
  {
   "cell_type": "markdown",
   "id": "746aa01c",
   "metadata": {},
   "source": [
    "## Choosing the Right Algorithm/Estimator"
   ]
  },
  {
   "cell_type": "code",
   "execution_count": 10,
   "id": "28795011",
   "metadata": {},
   "outputs": [
    {
     "data": {
      "text/plain": [
       "0.492759489558916"
      ]
     },
     "execution_count": 10,
     "metadata": {},
     "output_type": "execute_result"
    }
   ],
   "source": [
    "# Import the RandomForestRegressor model class from the ensemble module\n",
    "from sklearn.ensemble import RandomForestRegressor\n",
    "\n",
    "# Setup random seed\n",
    "np.random.seed(42)\n",
    "\n",
    "# Create the data\n",
    "X\n",
    "y = housing_data[\"price\"]\n",
    "\n",
    "# Split into train and test sets\n",
    "X_train, X_test, y_train, y_test = train_test_split(X, y, test_size=0.2)\n",
    "\n",
    "# Create random forest model\n",
    "model = RandomForestRegressor(n_estimators=100)\n",
    "model.fit(X_train, y_train)\n",
    "\n",
    "# Check the score of the model (on the test set)\n",
    "model.score(X_test, y_test)"
   ]
  },
  {
   "cell_type": "markdown",
   "id": "3e2b039a",
   "metadata": {},
   "source": [
    "### Using this one because it scored the highest"
   ]
  },
  {
   "cell_type": "code",
   "execution_count": 6,
   "id": "5a336b9f",
   "metadata": {},
   "outputs": [
    {
     "data": {
      "text/plain": [
       "0.5464817273849004"
      ]
     },
     "execution_count": 6,
     "metadata": {},
     "output_type": "execute_result"
    }
   ],
   "source": [
    "# Import the Ridge model \n",
    "from sklearn.linear_model import Ridge\n",
    "\n",
    "# Setup random seed\n",
    "np.random.seed(42)\n",
    "\n",
    "# Create the data\n",
    "X\n",
    "y = housing_data[\"price\"]\n",
    "\n",
    "# Split into train and test sets\n",
    "X_train, X_test, y_train, y_test = train_test_split(X, y, test_size=0.2)\n",
    "\n",
    "# Create random forest model\n",
    "model = Ridge()\n",
    "model.fit(X_train, y_train)\n",
    "\n",
    "# Check the score of the model (on the test set)\n",
    "model.score(X_test, y_test)"
   ]
  },
  {
   "cell_type": "code",
   "execution_count": 7,
   "id": "006f36a1",
   "metadata": {},
   "outputs": [
    {
     "data": {
      "text/plain": [
       "0.5464061192631773"
      ]
     },
     "execution_count": 7,
     "metadata": {},
     "output_type": "execute_result"
    }
   ],
   "source": [
    "# Import the Lasso model \n",
    "from sklearn.linear_model import Lasso\n",
    "\n",
    "# Setup random seed\n",
    "np.random.seed(42)\n",
    "\n",
    "# Create the data\n",
    "X\n",
    "y = housing_data[\"price\"]\n",
    "\n",
    "# Split into train and test sets\n",
    "X_train, X_test, y_train, y_test = train_test_split(X, y, test_size=0.2)\n",
    "\n",
    "# Create random forest model\n",
    "model = Lasso()\n",
    "model.fit(X_train, y_train)\n",
    "\n",
    "# Check the score of the model (on the test set)\n",
    "model.score(X_test, y_test)"
   ]
  },
  {
   "cell_type": "markdown",
   "id": "fbe421bf",
   "metadata": {},
   "source": [
    "## 3. Fit the model/algorithm on our data and use it to make predictions.\n",
    "### Fitting the model to the data."
   ]
  },
  {
   "cell_type": "code",
   "execution_count": 11,
   "id": "260f8e88",
   "metadata": {},
   "outputs": [
    {
     "data": {
      "text/plain": [
       "0.5464817273849004"
      ]
     },
     "execution_count": 11,
     "metadata": {},
     "output_type": "execute_result"
    }
   ],
   "source": [
    "# Import the Ridge model \n",
    "from sklearn.linear_model import Ridge\n",
    "\n",
    "# Setup random seed\n",
    "np.random.seed(42)\n",
    "\n",
    "# Create the data\n",
    "X \n",
    "y = housing_data[\"price\"]\n",
    "\n",
    "# Split into train and test sets\n",
    "X_train, X_test, y_train, y_test = train_test_split(X, y, test_size=0.2)\n",
    "\n",
    "# Instantiate Ridge algorithm/estimator\n",
    "model = Ridge()\n",
    "\n",
    "# Fit the model to the data (training the machine learning model)\n",
    "model.fit(X_train, y_train)\n",
    "\n",
    "# Check the score of the model (on the test set)\n",
    "model.score(X_test, y_test)"
   ]
  },
  {
   "cell_type": "markdown",
   "id": "9dcacfd6",
   "metadata": {},
   "source": [
    "### Make predictions with using a machine learning model \n",
    "\n",
    "2 ways to make predictions:\n",
    "1. 'predict()'\n",
    "2. 'predict_proba()'"
   ]
  },
  {
   "cell_type": "markdown",
   "id": "f58c17bb",
   "metadata": {},
   "source": [
    "Make predictions with predict_proba()"
   ]
  },
  {
   "cell_type": "code",
   "execution_count": 6,
   "id": "07f2efbd",
   "metadata": {},
   "outputs": [],
   "source": [
    "# Import the Ridge model \n",
    "from sklearn.linear_model import Ridge\n",
    "\n",
    "# Setup random seed\n",
    "np.random.seed(42)\n",
    "\n",
    "# Create the data\n",
    "X\n",
    "y = housing_data[\"price\"]\n",
    "\n",
    "# Split into train and test sets\n",
    "X_train, X_test, y_train, y_test = train_test_split(X, y, test_size=0.2)\n",
    "\n",
    "# Instantiate Ridge algorithm/estimator\n",
    "model = Ridge()\n",
    "\n",
    "# Fit the model to the data \n",
    "model.fit(X_train, y_train)\n",
    "\n",
    "# Make predictions\n",
    "y_preds = model.predict(X_test)"
   ]
  },
  {
   "cell_type": "markdown",
   "id": "101b37c6",
   "metadata": {},
   "source": [
    "## Using the test features to predict housing prices. "
   ]
  },
  {
   "cell_type": "code",
   "execution_count": 25,
   "id": "08d28c3c",
   "metadata": {},
   "outputs": [
    {
     "data": {
      "text/plain": [
       "array([6171593.56609654, 6360881.3580777 , 3284011.10385313,\n",
       "       4229888.93038902, 3413207.17733062, 4267056.30982905,\n",
       "       5498569.96209335, 5552743.08368722, 3373846.36286667,\n",
       "       3023406.48640742, 9499906.69591098, 3251218.34731514,\n",
       "       3185014.10298374, 3642094.23772705, 3911242.33384069,\n",
       "       6150062.99217805, 3147846.72354371, 4876582.31929285,\n",
       "       4830177.47513532, 3890367.73417811, 5225959.24340916,\n",
       "       4299539.70073932, 3163049.14341585, 4195977.93831583,\n",
       "       5752369.00379681, 7611000.45211902, 2990113.75752214,\n",
       "       4783160.16083591, 7441342.60004099, 3457212.35126053,\n",
       "       5092525.78855273, 3985609.31146839, 6206198.54421929,\n",
       "       4729514.41915169, 4314226.98784757, 5615472.92636983,\n",
       "       4795029.02055127, 3820788.81163923, 3264711.67602654,\n",
       "       4871210.60582706, 5331512.52312626, 3157171.19648923,\n",
       "       6336132.10786035, 4319724.18940256, 4122391.95496572,\n",
       "       4192118.44817767, 6701140.04445219, 4609790.3892928 ,\n",
       "       4524567.2709976 , 3636926.37340164, 7832109.86770852,\n",
       "       3299598.61221463, 4775272.65642389, 4075206.1165306 ,\n",
       "       3963097.00038897, 3088373.26822795, 6961126.39870999,\n",
       "       3425538.29832527, 4832414.41427325, 3209763.35320109,\n",
       "       4864614.67227121, 4515558.89286085, 5038471.89393452,\n",
       "       3568627.48135261, 5015916.07874108, 4520931.07439416,\n",
       "       6732814.09738745, 3611157.67495537, 7437543.67234787,\n",
       "       4626158.8919319 , 4736755.31667838, 5145567.6843168 ,\n",
       "       4970173.00188549, 6945788.6296662 , 3201839.07385612,\n",
       "       5326906.17545394, 4480713.54279097, 3523769.46533367,\n",
       "       4381640.81905994, 3827757.11847116, 7146171.01626619,\n",
       "       4619928.07526355, 5736288.25226908, 5241471.02890902,\n",
       "       3208982.35892349, 7208212.66594526, 3054343.0491791 ,\n",
       "       4087699.96861494, 7474098.58164602, 7711860.37593577,\n",
       "       3580292.95999511, 5015840.35587943, 3720216.63893385,\n",
       "       3737997.58231927, 8663969.01914001, 3981658.93805198,\n",
       "       5629871.99429919, 6639266.91890883, 5216841.00566734,\n",
       "       5555880.24407841, 4360060.94798141, 5952800.68755684,\n",
       "       4096818.20635676, 6047972.3350315 , 5367855.40417468,\n",
       "       5318237.67676433, 7192413.12933403, 6048584.80517339,\n",
       "       5921907.62889917])"
      ]
     },
     "execution_count": 25,
     "metadata": {},
     "output_type": "execute_result"
    }
   ],
   "source": [
    "y_preds"
   ]
  },
  {
   "cell_type": "markdown",
   "id": "baf59c81",
   "metadata": {},
   "source": [
    "# 4. Make housing price predictions here\n",
    "## *****************************************************"
   ]
  },
  {
   "cell_type": "markdown",
   "id": "5116b06f",
   "metadata": {},
   "source": [
    "### Instructions:  \n",
    "    1. Fill in the values in the line where it says \"values here\". There are 5 total values.  \n",
    "    2. The values correspond to the column names above in the order of; area, bedrooms, bathrooms, stories, and parking.  \n",
    "    3. Press CTRL ENTER or run at the top of jupyter notebook to get a predicted house value.  "
   ]
  },
  {
   "cell_type": "code",
   "execution_count": 7,
   "id": "5661a86c",
   "metadata": {},
   "outputs": [
    {
     "data": {
      "text/plain": [
       "array([2343539.59559398])"
      ]
     },
     "execution_count": 7,
     "metadata": {},
     "output_type": "execute_result"
    }
   ],
   "source": [
    "column_names_short = ['area', 'bedrooms', 'bathrooms', 'stories', 'parking']\n",
    "input_df = pd.DataFrame(np.array([[1000, 2, 1, 1, 0]]), columns = column_names_short) # values here\n",
    "single_line_pred = model.predict(input_df)\n",
    "single_line_pred"
   ]
  },
  {
   "cell_type": "markdown",
   "id": "7560e76f",
   "metadata": {},
   "source": [
    "## *****************************************************"
   ]
  },
  {
   "cell_type": "markdown",
   "id": "031dd49f",
   "metadata": {},
   "source": [
    "## 5. Evaluating a machine learning model\n",
    "\n",
    "Three ways to evaluate Scikit_Learn models/estimators:  \n",
    "\n",
    "    1. Estimators built-in 'score' method  \n",
    "    2. The 'scoring' parameter  \n",
    "    3. Problem-specific metric functions  "
   ]
  },
  {
   "cell_type": "markdown",
   "id": "e1a17c44",
   "metadata": {},
   "source": [
    "### Evalutating a model with the 'score' method"
   ]
  },
  {
   "cell_type": "code",
   "execution_count": 17,
   "id": "b223ad7b",
   "metadata": {},
   "outputs": [
    {
     "data": {
      "text/html": [
       "<style>#sk-container-id-1 {color: black;background-color: white;}#sk-container-id-1 pre{padding: 0;}#sk-container-id-1 div.sk-toggleable {background-color: white;}#sk-container-id-1 label.sk-toggleable__label {cursor: pointer;display: block;width: 100%;margin-bottom: 0;padding: 0.3em;box-sizing: border-box;text-align: center;}#sk-container-id-1 label.sk-toggleable__label-arrow:before {content: \"▸\";float: left;margin-right: 0.25em;color: #696969;}#sk-container-id-1 label.sk-toggleable__label-arrow:hover:before {color: black;}#sk-container-id-1 div.sk-estimator:hover label.sk-toggleable__label-arrow:before {color: black;}#sk-container-id-1 div.sk-toggleable__content {max-height: 0;max-width: 0;overflow: hidden;text-align: left;background-color: #f0f8ff;}#sk-container-id-1 div.sk-toggleable__content pre {margin: 0.2em;color: black;border-radius: 0.25em;background-color: #f0f8ff;}#sk-container-id-1 input.sk-toggleable__control:checked~div.sk-toggleable__content {max-height: 200px;max-width: 100%;overflow: auto;}#sk-container-id-1 input.sk-toggleable__control:checked~label.sk-toggleable__label-arrow:before {content: \"▾\";}#sk-container-id-1 div.sk-estimator input.sk-toggleable__control:checked~label.sk-toggleable__label {background-color: #d4ebff;}#sk-container-id-1 div.sk-label input.sk-toggleable__control:checked~label.sk-toggleable__label {background-color: #d4ebff;}#sk-container-id-1 input.sk-hidden--visually {border: 0;clip: rect(1px 1px 1px 1px);clip: rect(1px, 1px, 1px, 1px);height: 1px;margin: -1px;overflow: hidden;padding: 0;position: absolute;width: 1px;}#sk-container-id-1 div.sk-estimator {font-family: monospace;background-color: #f0f8ff;border: 1px dotted black;border-radius: 0.25em;box-sizing: border-box;margin-bottom: 0.5em;}#sk-container-id-1 div.sk-estimator:hover {background-color: #d4ebff;}#sk-container-id-1 div.sk-parallel-item::after {content: \"\";width: 100%;border-bottom: 1px solid gray;flex-grow: 1;}#sk-container-id-1 div.sk-label:hover label.sk-toggleable__label {background-color: #d4ebff;}#sk-container-id-1 div.sk-serial::before {content: \"\";position: absolute;border-left: 1px solid gray;box-sizing: border-box;top: 0;bottom: 0;left: 50%;z-index: 0;}#sk-container-id-1 div.sk-serial {display: flex;flex-direction: column;align-items: center;background-color: white;padding-right: 0.2em;padding-left: 0.2em;position: relative;}#sk-container-id-1 div.sk-item {position: relative;z-index: 1;}#sk-container-id-1 div.sk-parallel {display: flex;align-items: stretch;justify-content: center;background-color: white;position: relative;}#sk-container-id-1 div.sk-item::before, #sk-container-id-1 div.sk-parallel-item::before {content: \"\";position: absolute;border-left: 1px solid gray;box-sizing: border-box;top: 0;bottom: 0;left: 50%;z-index: -1;}#sk-container-id-1 div.sk-parallel-item {display: flex;flex-direction: column;z-index: 1;position: relative;background-color: white;}#sk-container-id-1 div.sk-parallel-item:first-child::after {align-self: flex-end;width: 50%;}#sk-container-id-1 div.sk-parallel-item:last-child::after {align-self: flex-start;width: 50%;}#sk-container-id-1 div.sk-parallel-item:only-child::after {width: 0;}#sk-container-id-1 div.sk-dashed-wrapped {border: 1px dashed gray;margin: 0 0.4em 0.5em 0.4em;box-sizing: border-box;padding-bottom: 0.4em;background-color: white;}#sk-container-id-1 div.sk-label label {font-family: monospace;font-weight: bold;display: inline-block;line-height: 1.2em;}#sk-container-id-1 div.sk-label-container {text-align: center;}#sk-container-id-1 div.sk-container {/* jupyter's `normalize.less` sets `[hidden] { display: none; }` but bootstrap.min.css set `[hidden] { display: none !important; }` so we also need the `!important` here to be able to override the default hidden behavior on the sphinx rendered scikit-learn.org. See: https://github.com/scikit-learn/scikit-learn/issues/21755 */display: inline-block !important;position: relative;}#sk-container-id-1 div.sk-text-repr-fallback {display: none;}</style><div id=\"sk-container-id-1\" class=\"sk-top-container\"><div class=\"sk-text-repr-fallback\"><pre>Ridge()</pre><b>In a Jupyter environment, please rerun this cell to show the HTML representation or trust the notebook. <br />On GitHub, the HTML representation is unable to render, please try loading this page with nbviewer.org.</b></div><div class=\"sk-container\" hidden><div class=\"sk-item\"><div class=\"sk-estimator sk-toggleable\"><input class=\"sk-toggleable__control sk-hidden--visually\" id=\"sk-estimator-id-1\" type=\"checkbox\" checked><label for=\"sk-estimator-id-1\" class=\"sk-toggleable__label sk-toggleable__label-arrow\">Ridge</label><div class=\"sk-toggleable__content\"><pre>Ridge()</pre></div></div></div></div></div>"
      ],
      "text/plain": [
       "Ridge()"
      ]
     },
     "execution_count": 17,
     "metadata": {},
     "output_type": "execute_result"
    }
   ],
   "source": [
    "# Import the Ridge model \n",
    "from sklearn.linear_model import Ridge\n",
    "\n",
    "# Setup random seed\n",
    "np.random.seed(42)\n",
    "\n",
    "# Create the data\n",
    "X\n",
    "y = housing_data[\"price\"]\n",
    "\n",
    "# Split into train and test sets\n",
    "X_train, X_test, y_train, y_test = train_test_split(X, y, test_size=0.2)\n",
    "\n",
    "# Instantiate Ridge algorithm/estimator\n",
    "model = Ridge()\n",
    "\n",
    "# Fit the model to the data \n",
    "model.fit(X_train, y_train)"
   ]
  },
  {
   "cell_type": "code",
   "execution_count": 13,
   "id": "8205744b",
   "metadata": {},
   "outputs": [
    {
     "data": {
      "text/plain": [
       "0.5621560810772063"
      ]
     },
     "execution_count": 13,
     "metadata": {},
     "output_type": "execute_result"
    }
   ],
   "source": [
    "# The highest value of the scoring method is 1.0, the lowest is 0.0\n",
    "model.score(X_train, y_train)"
   ]
  },
  {
   "cell_type": "code",
   "execution_count": 24,
   "id": "1d10e135",
   "metadata": {},
   "outputs": [
    {
     "data": {
      "text/plain": [
       "0.5464817273849004"
      ]
     },
     "execution_count": 24,
     "metadata": {},
     "output_type": "execute_result"
    }
   ],
   "source": [
    "# The highest value of the scoring method is 1.0, the lowest is 0.0\n",
    "model.score(X_test, y_test)"
   ]
  },
  {
   "cell_type": "markdown",
   "id": "aa969305",
   "metadata": {},
   "source": [
    "## Regression model evaluation metrics\n",
    "\n",
    "Three different evaluation metrics:  \n",
    "1. R^2 or coefficient of determination\n",
    "2. Mean absolute error (MAE)\n",
    "3. Mean squared error (MSE)"
   ]
  },
  {
   "cell_type": "markdown",
   "id": "76db66ad",
   "metadata": {},
   "source": [
    "## R^2 Method "
   ]
  },
  {
   "cell_type": "code",
   "execution_count": 30,
   "id": "6defb169",
   "metadata": {},
   "outputs": [
    {
     "data": {
      "text/plain": [
       "0.5464817273849004"
      ]
     },
     "execution_count": 30,
     "metadata": {},
     "output_type": "execute_result"
    }
   ],
   "source": [
    "# Compares your models predictions to the mean of the targets. \n",
    "# A score of 1 is the highest, a score of negative infinity is the lowest.\n",
    "from sklearn.metrics import r2_score\n",
    "\n",
    "r2_score(y_true=y_test,\n",
    "        y_pred=y_preds)"
   ]
  },
  {
   "cell_type": "markdown",
   "id": "bd95d8e7",
   "metadata": {},
   "source": [
    "## WGU's app building guide\n",
    "Steps to build solution:  \n",
    "    1. Import data and convert it to a (pandas) data frame.  \n",
    "    2. Explore the data and create some images.  \n",
    "    3. Determine which ML algorithm to start with and choose a supporting library.  \n",
    "    4. Read the library's documentation and understand the expected data format and usage.  \n",
    "    5. Apply the algorithm to the data, eg., train it, and create a model.  \n",
    "    6. Apply the model to new data, eg., a single input.  \n",
    "    7. Create a procedure for the user to apply the model, eg., provide input.  "
   ]
  },
  {
   "cell_type": "markdown",
   "id": "86bf78df",
   "metadata": {},
   "source": [
    "## Descriptive Methods"
   ]
  },
  {
   "cell_type": "code",
   "execution_count": 15,
   "id": "091fc760",
   "metadata": {},
   "outputs": [
    {
     "data": {
      "image/png": "[encoded data removed]",
      "text/plain": [
       "<Figure size 1024x704 with 1 Axes>"
      ]
     },
     "metadata": {},
     "output_type": "display_data"
    }
   ],
   "source": [
    "# Bar graph of prices by bedroom\n",
    "\n",
    "fig = plt.figure()\n",
    "ax = fig.add_axes([0,0,1,1],\n",
    "                 title=\"Housing Prices by Number of Bedrooms\",\n",
    "                 xlabel=\"Number of Bedrooms\",\n",
    "                 ylabel=\"Price of House\")\n",
    "\n",
    "bedrooms = housing_data[\"bedrooms\"]\n",
    "price = housing_data[\"price\"]\n",
    "ax.get_yaxis().get_major_formatter().set_useOffset(False)\n",
    "ax.get_yaxis().get_major_formatter().set_scientific(False)\n",
    "ax.bar(bedrooms, price)\n",
    "plt.style.use('classic')\n",
    "plt.show()"
   ]
  },
  {
   "cell_type": "code",
   "execution_count": 16,
   "id": "fc4796fa",
   "metadata": {},
   "outputs": [
    {
     "data": {
      "image/png": "[encoded data removed]",
      "text/plain": [
       "<Figure size 1200x480 with 1 Axes>"
      ]
     },
     "metadata": {},
     "output_type": "display_data"
    }
   ],
   "source": [
    "# Histogram of prices\n",
    "hist = housing_data[\"price\"].plot.hist(figsize=(15, 6));\n",
    "hist.set_xlabel(\"House Value\");\n",
    "hist.set_ylabel(\"Number of Houses\")\n",
    "hist.set_title(\"Frequency of Housing Prices\");\n",
    "\n",
    "hist.get_xaxis().get_major_formatter().set_useOffset(False)\n",
    "hist.get_xaxis().get_major_formatter().set_scientific(False)\n",
    "plt.style.use('bmh')"
   ]
  },
  {
   "cell_type": "code",
   "execution_count": 17,
   "id": "81cac0be",
   "metadata": {},
   "outputs": [
    {
     "data": {
      "image/png": "[encoded data removed]",
      "text/plain": [
       "<Figure size 800x480 with 1 Axes>"
      ]
     },
     "metadata": {},
     "output_type": "display_data"
    }
   ],
   "source": [
    "# Scatter plot of prices by size\n",
    "import warnings\n",
    "fig, ax = plt.subplots(figsize=(10, 6))\n",
    "\n",
    "# Plot the data\n",
    "scatter= ax.scatter(x=housing_data[\"area\"],\n",
    "                   y=housing_data[\"price\"]);\n",
    "\n",
    "# Customize the plot\n",
    "ax.set(title=\"Housing Prices by Size\",\n",
    "      xlabel=\"Area of House\",\n",
    "      ylabel=\"Price\");\n",
    "ax.get_yaxis().get_major_formatter().set_useOffset(False)\n",
    "ax.get_yaxis().get_major_formatter().set_scientific(False)\n",
    "warnings.filterwarnings(\"ignore\")\n",
    "plt.style.use('seaborn-v0_8-poster')"
   ]
  },
  {
   "cell_type": "code",
   "execution_count": null,
   "id": "1e8444c8",
   "metadata": {},
   "outputs": [],
   "source": []
  }
 ],
 "metadata": {
  "kernelspec": {
   "display_name": "Python 3 (ipykernel)",
   "language": "python",
   "name": "python3"
  },
  "language_info": {
   "codemirror_mode": {
    "name": "ipython",
    "version": 3
   },
   "file_extension": ".py",
   "mimetype": "text/x-python",
   "name": "python",
   "nbconvert_exporter": "python",
   "pygments_lexer": "ipython3",
   "version": "3.11.2"
  }
 },
 "nbformat": 4,
 "nbformat_minor": 5
}
